{
 "cells": [
  {
   "cell_type": "markdown",
   "metadata": {},
   "source": [
    "Get List of top Bigrams from Training Set"
   ]
  },
  {
   "cell_type": "code",
   "execution_count": 1,
   "metadata": {},
   "outputs": [],
   "source": [
    "import os\n",
    "\n",
    "os.chdir('../data')\n",
    "\n",
    "trainfolder = \"ReutersC50\\\\C50train\"  \n",
    "testfolder = \"ReutersC50\\\\C50test\"\n",
    "Names = [name for name in os.listdir(trainfolder)]\n",
    "trainAuthorFolder = [trainfolder + '\\\\' + name + \"\\\\\" for name in Names]\n",
    "testAuthorFolder = [testfolder + '\\\\' + name + \"\\\\\" for name in Names]"
   ]
  },
  {
   "cell_type": "code",
   "execution_count": 2,
   "metadata": {},
   "outputs": [],
   "source": [
    "import glob\n",
    "\n",
    "for author in trainAuthorFolder:\n",
    "    read_files = glob.glob(author + \"*.txt\")\n",
    "\n",
    "    with open(\"ReutersC50\\\\combined\\\\\" + author.split('\\\\')[-2] + \".txt\", \"wb\") as outfile:\n",
    "        for f in read_files:\n",
    "            with open(f, \"rb\") as infile:\n",
    "                outfile.write(infile.read())"
   ]
  },
  {
   "cell_type": "code",
   "execution_count": 3,
   "metadata": {},
   "outputs": [],
   "source": [
    "combinedGlob = glob.glob(\"ReutersC50\\\\combined\\\\\" + '*.txt')"
   ]
  },
  {
   "cell_type": "code",
   "execution_count": 4,
   "metadata": {},
   "outputs": [],
   "source": [
    "import re\n",
    "import nltk\n",
    "from operator import itemgetter\n",
    "from nltk.corpus import stopwords\n",
    "from nltk.stem import PorterStemmer\n",
    "from nltk.tokenize import sent_tokenize, word_tokenize"
   ]
  },
  {
   "cell_type": "code",
   "execution_count": 5,
   "metadata": {},
   "outputs": [],
   "source": [
    "topBigrams = []\n",
    "ps = PorterStemmer()\n",
    "\n",
    "for files in combinedGlob:\n",
    "    f = open(files)\n",
    "    raw = f.read()\n",
    "\n",
    "    #keep only alphanumeric and spaces\n",
    "    pattern = re.compile('([^\\s\\w]|_)+')\n",
    "    raw = pattern.sub('', raw).lower()\n",
    "\n",
    "    #split into words \"tokens\"\n",
    "    tokens = nltk.word_tokenize(raw)\n",
    "\n",
    "    #remove stop words\n",
    "    stop_words = set(stopwords.words('english')) \n",
    "    tokens = [w for w in tokens if not w in stop_words] \n",
    "    tokens = [ps.stem(w) for w in tokens]\n",
    "    \n",
    "    #bigrams\n",
    "    bgs = nltk.bigrams(tokens)\n",
    "    fdist = nltk.FreqDist(bgs)\n",
    "    \n",
    "    sortBigram = sorted(fdist.items(), key = itemgetter(1), reverse = True)\n",
    "    topBigrams.append(sortBigram[0:10])"
   ]
  },
  {
   "cell_type": "code",
   "execution_count": 6,
   "metadata": {},
   "outputs": [],
   "source": [
    "topBigrams = list(set().union(*topBigrams))"
   ]
  },
  {
   "cell_type": "code",
   "execution_count": 7,
   "metadata": {},
   "outputs": [
    {
     "data": {
      "text/plain": [
       "479"
      ]
     },
     "execution_count": 7,
     "metadata": {},
     "output_type": "execute_result"
    }
   ],
   "source": [
    "len(topBigrams)"
   ]
  },
  {
   "cell_type": "markdown",
   "metadata": {},
   "source": [
    "Now let's get a data frame where each row is a document, sans stopwords and stems"
   ]
  },
  {
   "cell_type": "code",
   "execution_count": null,
   "metadata": {},
   "outputs": [],
   "source": [
    "train_frame = []\n",
    "\n",
    "for author in trainAuthorFolder:\n",
    "    folderGlob = glob.glob(author + \"*.txt\")\n",
    "    \n",
    "    for files in folderGlob:\n",
    "        f = open(files)\n",
    "        raw = f.read()\n",
    "\n",
    "        #keep only alphanumeric and spaces\n",
    "        pattern = re.compile('([^\\s\\w]|_)+')\n",
    "        raw = pattern.sub('', raw).lower()\n",
    "\n",
    "        #split into words \"tokens\"\n",
    "        tokens = nltk.word_tokenize(raw)\n",
    "\n",
    "        #remove stop words\n",
    "        stop_words = set(stopwords.words('english')) \n",
    "        tokens = [w for w in tokens if not w in stop_words] \n",
    "        tokens = [ps.stem(w) for w in tokens]\n",
    "\n",
    "        train_frame.append((tokens, author))"
   ]
  },
  {
   "cell_type": "code",
   "execution_count": null,
   "metadata": {},
   "outputs": [],
   "source": [
    "import pandas as pd"
   ]
  },
  {
   "cell_type": "code",
   "execution_count": null,
   "metadata": {},
   "outputs": [],
   "source": [
    "dfTrain = pd.DataFrame(columns=['document', 'author', 'test/train'])\n",
    "\n",
    "for count, document in enumerate(train_frame):\n",
    "    dfTrain.loc[count] = [' '.join(document[0]), document[1].split('\\\\')[2], document[1].split('\\\\')[1]]"
   ]
  },
  {
   "cell_type": "code",
   "execution_count": null,
   "metadata": {
    "scrolled": true
   },
   "outputs": [],
   "source": [
    "dfTrain"
   ]
  },
  {
   "cell_type": "markdown",
   "metadata": {},
   "source": [
    "That was training, we need test too:"
   ]
  },
  {
   "cell_type": "code",
   "execution_count": null,
   "metadata": {},
   "outputs": [],
   "source": [
    "test_frame = []\n",
    "\n",
    "for author in testAuthorFolder:\n",
    "    folderGlob = glob.glob(author + \"*.txt\")\n",
    "    \n",
    "    for files in folderGlob:\n",
    "        f = open(files)\n",
    "        raw = f.read()\n",
    "\n",
    "        #keep only alphanumeric and spaces\n",
    "        pattern = re.compile('([^\\s\\w]|_)+')\n",
    "        raw = pattern.sub('', raw).lower()\n",
    "\n",
    "        #split into words \"tokens\"\n",
    "        tokens = nltk.word_tokenize(raw)\n",
    "\n",
    "        #remove stop words\n",
    "        stop_words = set(stopwords.words('english')) \n",
    "        tokens = [w for w in tokens if not w in stop_words] \n",
    "        tokens = [ps.stem(w) for w in tokens]\n",
    "\n",
    "        test_frame.append((tokens, author))\n",
    "\n",
    "dfTest = pd.DataFrame(columns=['document', 'author', 'test/train'])\n",
    "\n",
    "for count, document in enumerate(test_frame):\n",
    "    dfTest.loc[count] = [' '.join(document[0]), document[1].split('\\\\')[2], document[1].split('\\\\')[1]]"
   ]
  },
  {
   "cell_type": "code",
   "execution_count": null,
   "metadata": {
    "scrolled": true
   },
   "outputs": [],
   "source": [
    "dfTest"
   ]
  },
  {
   "cell_type": "markdown",
   "metadata": {},
   "source": [
    "Combine the two for our full sample:"
   ]
  },
  {
   "cell_type": "code",
   "execution_count": null,
   "metadata": {},
   "outputs": [],
   "source": [
    "dfFull = pd.concat([dfTrain, dfTest])"
   ]
  },
  {
   "cell_type": "code",
   "execution_count": null,
   "metadata": {
    "scrolled": true
   },
   "outputs": [],
   "source": [
    "dfFull"
   ]
  },
  {
   "cell_type": "markdown",
   "metadata": {},
   "source": [
    "Now we want to count the times each common bigram appears in each document:"
   ]
  },
  {
   "cell_type": "code",
   "execution_count": null,
   "metadata": {},
   "outputs": [],
   "source": [
    "topBigrams"
   ]
  },
  {
   "cell_type": "code",
   "execution_count": null,
   "metadata": {},
   "outputs": [],
   "source": [
    "' '.join(topBigrams[0][0])"
   ]
  },
  {
   "cell_type": "code",
   "execution_count": null,
   "metadata": {},
   "outputs": [],
   "source": [
    "stringBigram = [' '.join(bigram[0]) for bigram in topBigrams]"
   ]
  },
  {
   "cell_type": "code",
   "execution_count": null,
   "metadata": {},
   "outputs": [],
   "source": [
    "stringBigram"
   ]
  },
  {
   "cell_type": "code",
   "execution_count": null,
   "metadata": {},
   "outputs": [],
   "source": [
    "for bigram in stringBigram:\n",
    "    dfTrain[bigram] = dfTrain['document'].str.count(bigram)\n",
    "\n",
    "for bigram in stringBigram:\n",
    "    dfTest[bigram] = dfTest['document'].str.count(bigram)    "
   ]
  },
  {
   "cell_type": "code",
   "execution_count": null,
   "metadata": {},
   "outputs": [],
   "source": [
    "dfTrain"
   ]
  },
  {
   "cell_type": "code",
   "execution_count": null,
   "metadata": {
    "scrolled": true
   },
   "outputs": [],
   "source": [
    "trainBigramCount = dfTrain.iloc[:,3:]\n",
    "#trainBigramCount = trainBigramCount.div(trainBigramCount.sum(axis=1), axis=0)\n",
    "#trainBigramCount = trainBigramCount.dropna()\n",
    "trainBigramCount"
   ]
  },
  {
   "cell_type": "code",
   "execution_count": null,
   "metadata": {
    "scrolled": true
   },
   "outputs": [],
   "source": [
    "testBigramCount = dfTest.iloc[:,3:]\n",
    "#testBigramCount = testBigramCount.div(testBigramCount.sum(axis=1), axis=0)\n",
    "#testBigramCount = testBigramCount.dropna()\n",
    "testBigramCount"
   ]
  },
  {
   "cell_type": "code",
   "execution_count": null,
   "metadata": {
    "scrolled": true
   },
   "outputs": [],
   "source": [
    "train_document_frame = dfTrain.iloc[:,1:3]\n",
    "train_document_frame"
   ]
  },
  {
   "cell_type": "code",
   "execution_count": null,
   "metadata": {
    "scrolled": true
   },
   "outputs": [],
   "source": [
    "test_document_frame = dfTest.iloc[:,1:3]\n",
    "test_document_frame"
   ]
  },
  {
   "cell_type": "code",
   "execution_count": null,
   "metadata": {},
   "outputs": [],
   "source": [
    "os.chdir(\"ReutersC50\")\n",
    "print os.getcwd()"
   ]
  },
  {
   "cell_type": "code",
   "execution_count": null,
   "metadata": {},
   "outputs": [],
   "source": [
    "test_document_frame.to_csv(\"test_documents.csv\")\n",
    "train_document_frame.to_csv(\"train_documents.csv\")\n",
    "\n",
    "testBigramCount.to_csv(\"test_bigrams.csv\")\n",
    "trainBigramCount.to_csv(\"train_bigrams.csv\")"
   ]
  },
  {
   "cell_type": "code",
   "execution_count": null,
   "metadata": {},
   "outputs": [],
   "source": []
  }
 ],
 "metadata": {
  "kernelspec": {
   "display_name": "Python 2",
   "language": "python",
   "name": "python2"
  },
  "language_info": {
   "codemirror_mode": {
    "name": "ipython",
    "version": 2
   },
   "file_extension": ".py",
   "mimetype": "text/x-python",
   "name": "python",
   "nbconvert_exporter": "python",
   "pygments_lexer": "ipython2",
   "version": "2.7.16"
  }
 },
 "nbformat": 4,
 "nbformat_minor": 2
}
